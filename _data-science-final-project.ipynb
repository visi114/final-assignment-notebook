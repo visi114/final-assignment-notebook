{
 "cells": [
  {
   "cell_type": "code",
   "execution_count": 4,
   "id": "48e10935-9266-4132-b182-de13579ac731",
   "metadata": {},
   "outputs": [],
   "source": [
    "# Data Science Tools and Ecosystem\n"
   ]
  },
  {
   "cell_type": "code",
   "execution_count": null,
   "id": "80b9a054-c6e3-4550-b950-8f29b2997e46",
   "metadata": {},
   "outputs": [],
   "source": [
    "In this notebook, Data Science Tools and Ecosystem are summarized.\n"
   ]
  },
  {
   "cell_type": "code",
   "execution_count": null,
   "id": "5193a6ad-53f4-489d-ac73-85674ec12d32",
   "metadata": {},
   "outputs": [],
   "source": [
    "Some of the popular languages that Data Scientists use are:\n",
    "\n",
    "1. Python  \n",
    "2. R  \n",
    "3. SQL  \n",
    "4. Java  \n",
    "5. Scala  \n"
   ]
  },
  {
   "cell_type": "code",
   "execution_count": null,
   "id": "f9a14fbc-4025-42ad-a222-100e81879430",
   "metadata": {},
   "outputs": [],
   "source": [
    "Some of the commonly used libraries used by Data Scientists include:\n",
    "\n",
    "1. Pandas  \n",
    "2. NumPy  \n",
    "3. Matplotlib  \n",
    "4. Scikit-learn  \n",
    "5. TensorFlow  \n"
   ]
  },
  {
   "cell_type": "code",
   "execution_count": null,
   "id": "bb5c7bc9-617b-4afd-8ec7-a3fee83cbee2",
   "metadata": {},
   "outputs": [],
   "source": [
    "| Tool           | Description                    |\n",
    "|----------------|--------------------------------|\n",
    "| Jupyter        | Interactive notebook platform  |\n",
    "| RStudio        | IDE for R                      |\n",
    "| Apache Spark   | Big data processing engine     |\n",
    "| VS Code        | Source-code editor             |\n",
    "| TensorBoard    | Visualization tool for ML      |\n"
   ]
  },
  {
   "cell_type": "code",
   "execution_count": null,
   "id": "9f8e45a3-c795-4beb-b505-f7609cacf032",
   "metadata": {},
   "outputs": [],
   "source": [
    "### Below are a few examples of evaluating arithmetic expressions in Python.\n"
   ]
  },
  {
   "cell_type": "code",
   "execution_count": null,
   "id": "f5964534-88b0-4b4f-b64d-8d06df349782",
   "metadata": {},
   "outputs": [],
   "source": [
    "# This is a simple arithmetic expression to multiply then add integers\n",
    "(3 * 4) + 5\n"
   ]
  },
  {
   "cell_type": "code",
   "execution_count": null,
   "id": "b8b53b24-e22c-4b8f-894d-d2fa875cb159",
   "metadata": {},
   "outputs": [],
   "source": [
    "# This will convert 200 minutes to hours by dividing by 60\n",
    "minutes = 200\n",
    "hours = minutes / 60\n",
    "hours\n"
   ]
  },
  {
   "cell_type": "code",
   "execution_count": null,
   "id": "4a9d2439-ad57-4ebf-95cb-c820e372936d",
   "metadata": {},
   "outputs": [],
   "source": [
    "## Objectives:\n",
    "\n",
    "- List popular languages for Data Science  \n",
    "- List commonly used libraries for Data Science  \n",
    "- Demonstrate arithmetic expression examples  \n",
    "- Create markdown and code cells  \n",
    "- Share the notebook on GitHub  \n"
   ]
  },
  {
   "cell_type": "code",
   "execution_count": null,
   "id": "25a0bdd8-85a7-4069-bbd2-2438f43ddb92",
   "metadata": {},
   "outputs": [],
   "source": [
    "Author:\n",
    "Vishwanath P"
   ]
  },
  {
   "cell_type": "code",
   "execution_count": null,
   "id": "68372e1a-3645-4afa-ae70-d41f4840642d",
   "metadata": {},
   "outputs": [],
   "source": []
  }
 ],
 "metadata": {
  "kernelspec": {
   "display_name": "Python [conda env:base] *",
   "language": "python",
   "name": "conda-base-py"
  },
  "language_info": {
   "codemirror_mode": {
    "name": "ipython",
    "version": 3
   },
   "file_extension": ".py",
   "mimetype": "text/x-python",
   "name": "python",
   "nbconvert_exporter": "python",
   "pygments_lexer": "ipython3",
   "version": "3.12.7"
  }
 },
 "nbformat": 4,
 "nbformat_minor": 5
}
